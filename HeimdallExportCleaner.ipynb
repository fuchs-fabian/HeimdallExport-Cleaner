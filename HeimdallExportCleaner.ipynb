{
 "cells": [
  {
   "cell_type": "markdown",
   "metadata": {},
   "source": [
    "# Imports"
   ]
  },
  {
   "cell_type": "code",
   "execution_count": null,
   "metadata": {},
   "outputs": [],
   "source": [
    "import pandas as pd\n",
    "import json"
   ]
  },
  {
   "cell_type": "markdown",
   "metadata": {},
   "source": [
    "# Config"
   ]
  },
  {
   "cell_type": "code",
   "execution_count": null,
   "metadata": {},
   "outputs": [],
   "source": [
    "with open('config.json', 'r') as config_file:\n",
    "    config = json.load(config_file)\n",
    "\n",
    "heimdall_export_name = config['heimdall_export_name']\n",
    "no_tag = config['no_tag']\n",
    "tags = config['tags']\n",
    "case_insensitive_sort = config['case_insensitive_sort']\n",
    "clean_colour = config['clean_colour']\n",
    "clean_description = config['clean_description']\n",
    "clean_appid = config['clean_appid']\n",
    "clean_appdescription = config['clean_appdescription']\n",
    "separators_for_tag_name = config['separators_for_tag_name']"
   ]
  },
  {
   "cell_type": "markdown",
   "metadata": {},
   "source": [
    "# Clean"
   ]
  },
  {
   "cell_type": "code",
   "execution_count": null,
   "metadata": {},
   "outputs": [],
   "source": [
    "df_raw = pd.read_json(heimdall_export_name + '.json')\n",
    "\n",
    "if case_insensitive_sort:\n",
    "    df_raw = df_raw.sort_values(by=['title'], key=lambda x: x.str.lower())\n",
    "else:\n",
    "    df_raw = df_raw.sort_values(by=['title'])\n",
    "\n",
    "df_raw = df_raw.reset_index().drop(columns=['index'])\n",
    "\n",
    "if clean_colour:\n",
    "    df_raw['colour'] = \"#161b1f\"\n",
    "\n",
    "if clean_description:\n",
    "    df_raw['description'] = None\n",
    "\n",
    "if clean_appid:\n",
    "    df_raw['appid'] = \"null\"\n",
    "\n",
    "if clean_appdescription:\n",
    "    df_raw['appdescription'] = None\n",
    "\n",
    "df_raw.head()"
   ]
  },
  {
   "cell_type": "markdown",
   "metadata": {},
   "source": [
    "# Filter and export to `json` file(s)"
   ]
  },
  {
   "cell_type": "code",
   "execution_count": null,
   "metadata": {},
   "outputs": [],
   "source": [
    "def export_df_to_json(df_filtered, tag=None):\n",
    "    if tag:\n",
    "        filename = heimdall_export_name + '_' + tag\n",
    "    else:\n",
    "        filename = heimdall_export_name\n",
    "    with open(filename + '.json', 'w') as json_file:\n",
    "        json.dump(json.loads(df_filtered.to_json(orient='records')), json_file, indent=4)\n",
    "        print('\\\"' + filename + '.json' + '\\\"' + ' created or customized!')\n",
    "\n",
    "export_df_to_json(df_raw)\n",
    "\n",
    "if tags is not None:\n",
    "    for tag in tags:\n",
    "        if df_raw['title'].str.contains(tag, case=False).any():\n",
    "            df_filtered = df_raw[df_raw['title'].str.contains(tag, case=False)].copy().reset_index(drop=True)\n",
    "            if separators_for_tag_name is not None:\n",
    "                export_df_to_json(df_filtered, tag.replace(separators_for_tag_name[0], '').replace(separators_for_tag_name[1], ''))\n",
    "            else:\n",
    "                export_df_to_json(df_filtered, tag)\n",
    "\n",
    "if no_tag is not None and tags is not None:\n",
    "    conditions = ~df_raw['title'].str.contains('|'.join(tag for tag in tags), case=False)\n",
    "    df_filtered = df_raw[conditions].copy().reset_index(drop=True)\n",
    "    export_df_to_json(df_filtered, no_tag)\n",
    "\n",
    "print('Done!')"
   ]
  }
 ],
 "metadata": {
  "kernelspec": {
   "display_name": "Python 3 (ipykernel)",
   "language": "python",
   "name": "python3"
  },
  "language_info": {
   "codemirror_mode": {
    "name": "ipython",
    "version": 3
   },
   "file_extension": ".py",
   "mimetype": "text/x-python",
   "name": "python",
   "nbconvert_exporter": "python",
   "pygments_lexer": "ipython3",
   "version": "3.10.13"
  }
 },
 "nbformat": 4,
 "nbformat_minor": 2
}
